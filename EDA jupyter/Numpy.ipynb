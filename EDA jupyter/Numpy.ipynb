{
 "cells": [
  {
   "cell_type": "code",
   "execution_count": 5,
   "metadata": {},
   "outputs": [
    {
     "name": "stdout",
     "output_type": "stream",
     "text": [
      "[10 20 30 40 50 60]\n",
      "(6,)\n",
      "<class 'numpy.ndarray'>\n",
      "int64\n",
      "8\n",
      "6\n",
      "1\n",
      "48\n"
     ]
    }
   ],
   "source": [
    "import numpy as np\n",
    "\n",
    "arr_1=np.array([10,20,30,40,50,60])\n",
    "print(arr_1)\n",
    "\n",
    "#Numpy Array In-Built Methods and Properties\n",
    "\n",
    "print(arr_1.shape) #shape return (rows,columns)\n",
    "print(type(arr_1))\n",
    "print(arr_1.dtype)  #dtype returns data type\n",
    "print(\"Item size:\",arr_1.itemsize)\n",
    "print(\"Size\",arr_1.size) #size()-Returns Total size of Array\n",
    "print(\"Dimension\",arr_1.ndim)  #dimensionality- 1D\n",
    "print(arr_1.nbytes)  #nbytes=Total size of numpy array"
   ]
  },
  {
   "cell_type": "code",
   "execution_count": 7,
   "metadata": {},
   "outputs": [
    {
     "name": "stdout",
     "output_type": "stream",
     "text": [
      "(3, 4)\n",
      "<class 'numpy.ndarray'>\n",
      "int64\n",
      "Item size: 8\n",
      "Size 12\n",
      "Dimension 2\n",
      "96\n"
     ]
    }
   ],
   "source": [
    "#Types of numpy array\n",
    "#Create 1-D array\n",
    "arr_2=np.array([10,20,23,43,30,48,57])\n",
    "\n",
    "#create a 2-D array -matrix\n",
    "\n",
    "arr_3=np.array([[18,11,13,15],\n",
    "                [23,56,34,44],\n",
    "                [0,45,4,34]])\n",
    "\n",
    "print(arr_3.shape) #shape return (rows,columns)\n",
    "print(type(arr_3))\n",
    "print(arr_3.dtype)  #dtype returns data type\n",
    "print(\"Item size:\",arr_3.itemsize)\n",
    "print(\"Size\",arr_3.size) #size()-Returns Total size of Array\n",
    "print(\"Dimension\",arr_3.ndim)  #dimensionality- 1D\n",
    "print(arr_3.nbytes)"
   ]
  },
  {
   "cell_type": "code",
   "execution_count": 10,
   "metadata": {},
   "outputs": [
    {
     "name": "stdout",
     "output_type": "stream",
     "text": [
      "[[[18 11 13 15]\n",
      "  [23 56 34 44]\n",
      "  [ 0 45  4 34]]\n",
      "\n",
      " [[18 11 13 15]\n",
      "  [ 1  1  1  1]\n",
      "  [ 0 45  4 34]]]\n",
      "(2, 3, 4)\n",
      "<class 'numpy.ndarray'>\n",
      "int64\n",
      "Item size: 8\n",
      "Size 24\n",
      "Dimension 3\n",
      "192\n"
     ]
    }
   ],
   "source": [
    "#Three dimensional array\n",
    "\n",
    "arr_4=np.array([[[18,11,13,15],\n",
    "    [23,56,34,44],\n",
    "    [0,45,4,34]],\n",
    "    [[18,11,13,15],\n",
    "    [1,1,1,1],\n",
    "    [0,45,4,34]]])\n",
    "\n",
    "\n",
    "print(arr_4)\n",
    "print(arr_4.shape) #shape return (rows,columns)\n",
    "print(type(arr_4))\n",
    "print(arr_4.dtype)  #dtype returns data type\n",
    "print(\"Item size:\",arr_4.itemsize)\n",
    "print(\"Size\",arr_4.size) #size()-Returns Total size of Array\n",
    "print(\"Dimension\",arr_4.ndim)  #dimensionality- 1D\n",
    "print(arr_4.nbytes)"
   ]
  },
  {
   "cell_type": "code",
   "execution_count": 21,
   "metadata": {},
   "outputs": [
    {
     "name": "stdout",
     "output_type": "stream",
     "text": [
      "[18 11 13 15]\n",
      "[[18 11 13 15]\n",
      " [23 56 34 44]\n",
      " [ 0 45  4 34]]\n",
      "[18 23  0]\n",
      "[[18 11]\n",
      " [23 56]\n",
      " [ 0 45]]\n",
      "[[56 34]]\n",
      "1\n",
      "[1 1 1 1]\n"
     ]
    }
   ],
   "source": [
    "#Slicing And Indexing In Numpy Array\n",
    "\n",
    "print(arr_3[0]) #Indexing for first two elements\n",
    "print(arr_3[:,:]) #All rows and all columns\n",
    "print(arr_3[:,0]) #slicing elements from all rows and first column index\n",
    "print(arr_3[:,0:2])  #slicing elements from all rows and first column index\n",
    "\n",
    "\n",
    "print(arr_3[1:-1,1:-1]) #start index=1, stop index=last index position\n",
    "\n",
    "#slicing 3 dimensional numpy array\n",
    "print(arr_4[1,1,2]) #matrix 1 row 1 column 2\n",
    "\n",
    "\n"
   ]
  },
  {
   "cell_type": "code",
   "execution_count": 30,
   "metadata": {},
   "outputs": [
    {
     "name": "stdout",
     "output_type": "stream",
     "text": [
      "Array 5:\n",
      "[ 1  2  3  4  5  6  7  8  9 10 11 12 13 14 15 16 17 18 19 20 21 22 23 24\n",
      " 25 26 27 28 29 30 31 32 33 34 35 36 37 38 39 40 41 42 43 44 45 46 47 48\n",
      " 49 50]\n",
      "Array 6:\n",
      "[[[ 1  2  3  4  5]\n",
      "  [ 6  7  8  9 10]\n",
      "  [11 12 13 14 15]\n",
      "  [16 17 18 19 20]\n",
      "  [21 22 23 24 25]]\n",
      "\n",
      " [[26 27 28 29 30]\n",
      "  [31 32 33 34 35]\n",
      "  [36 37 38 39 40]\n",
      "  [41 42 43 44 45]\n",
      "  [46 47 48 49 50]]]\n",
      "Array 7\n",
      "[[ 1  2  3  4  5  6  7  8  9 10]\n",
      " [11 12 13 14 15 16 17 18 19 20]\n",
      " [21 22 23 24 25 26 27 28 29 30]\n",
      " [31 32 33 34 35 36 37 38 39 40]\n",
      " [41 42 43 44 45 46 47 48 49 50]]\n"
     ]
    }
   ],
   "source": [
    "#create Numpy array using functions\n",
    "\n",
    "arr_5=np.arange(1,51) #create 1-D array\n",
    "print(\"Array 5:\")\n",
    "print(arr_5)\n",
    "\n",
    "print(\"Array 6:\")\n",
    "array_6=np.arange(1,51).reshape(2,5,5)\n",
    "print(array_6)\n",
    "\n",
    "print(\"Array 7\")\n",
    "array_7=np.arange(1,51).reshape(5,10)\n",
    "print(array_7)"
   ]
  },
  {
   "cell_type": "code",
   "execution_count": 48,
   "metadata": {},
   "outputs": [
    {
     "name": "stdout",
     "output_type": "stream",
     "text": [
      "[[0. 0. 0. 0. 0. 0. 0.]\n",
      " [0. 0. 0. 0. 0. 0. 0.]\n",
      " [0. 0. 0. 0. 0. 0. 0.]\n",
      " [0. 0. 0. 0. 0. 0. 0.]\n",
      " [0. 0. 0. 0. 0. 0. 0.]]\n",
      "[[0 0 0 0 0 0 0]\n",
      " [0 0 0 0 0 0 0]\n",
      " [0 0 0 0 0 0 0]\n",
      " [0 0 0 0 0 0 0]\n",
      " [0 0 0 0 0 0 0]]\n",
      "[[1. 1. 1. 1. 1. 1. 1.]\n",
      " [1. 1. 1. 1. 1. 1. 1.]\n",
      " [1. 1. 1. 1. 1. 1. 1.]\n",
      " [1. 1. 1. 1. 1. 1. 1.]\n",
      " [1. 1. 1. 1. 1. 1. 1.]]\n",
      "[[1. 0. 0. 0. 0.]\n",
      " [0. 1. 0. 0. 0.]\n",
      " [0. 0. 1. 0. 0.]\n",
      " [0. 0. 0. 1. 0.]\n",
      " [0. 0. 0. 0. 1.]]\n",
      "[[2. 2. 2.]\n",
      " [2. 2. 2.]\n",
      " [2. 2. 2.]]\n",
      "[[2. 2. 2.]\n",
      " [2. 2. 2.]\n",
      " [2. 2. 2.]]\n",
      "[6.1 6.1 6.1 6.1 6.1 6.1 6.1 6.1 6.1 6.1]\n",
      "[ 10.  20.  30.  40.  50.  60.  70.  80.  90. 100.]\n",
      "[1.         1.08005974 1.16652904 1.25992105 1.36079    1.46973449\n",
      " 1.58740105 1.71448797 1.85174942 2.        ]\n"
     ]
    }
   ],
   "source": [
    "#zero matrix : np.zero(shape)\n",
    "\n",
    "arr_8=np.zeros((5,7),dtype='float16')\n",
    "arr_9=np.zeros((5,7),dtype='int16')\n",
    "print(arr_8)\n",
    "print(arr_9)\n",
    "\n",
    "\n",
    "#ones matrix \n",
    "\n",
    "arr_10=np.ones((5,7))\n",
    "print(arr_10)\n",
    "\n",
    "#identity matrix \n",
    "\n",
    "arr_10=np.identity(5)\n",
    "print(arr_10)\n",
    "\n",
    "#empty matrix \n",
    "\n",
    "arr_11=np.empty((3,3)) #not necessary it will get filled with zero\n",
    "print(arr_11)\n",
    "\n",
    "#fill all positions with 2\n",
    "arr_11.fill(2)\n",
    "print(arr_11)\n",
    "\n",
    "#full\n",
    "\n",
    "print(np.full(10,6.1))\n",
    "\n",
    "#linspace\n",
    "#creates an evenly spaced array\n",
    "\n",
    "print(np.linspace(10,100,10)) #start position, stop position and number of elements\n",
    "\n",
    "\n",
    "#logspace\n",
    "#N evenly spaced array on a logscale between start and stop position\n",
    "\n",
    "arr_12=np.logspace(0,1,10,base=2)\n",
    "print(arr_12)"
   ]
  },
  {
   "cell_type": "code",
   "execution_count": 53,
   "metadata": {},
   "outputs": [
    {
     "data": {
      "text/plain": [
       "[[1, 1, 1, 1, 1, 1, 1, 1, 1, 1],\n",
       " [1, 0, 0, 0, 0, 0, 0, 0, 0, 1],\n",
       " [1, 0, 0, 0, 0, 0, 0, 0, 0, 1],\n",
       " [1, 0, 0, 0, 0, 0, 0, 0, 0, 1],\n",
       " [1, 0, 0, 0, 0, 0, 0, 0, 0, 1],\n",
       " [1, 0, 0, 0, 0, 0, 0, 0, 0, 1],\n",
       " [1, 0, 0, 0, 0, 0, 0, 0, 0, 1],\n",
       " [1, 0, 0, 0, 0, 0, 0, 0, 0, 1],\n",
       " [1, 0, 0, 0, 0, 0, 0, 0, 0, 1],\n",
       " [1, 1, 1, 1, 1, 1, 1, 1, 1, 1]]"
      ]
     },
     "execution_count": 53,
     "metadata": {},
     "output_type": "execute_result"
    }
   ],
   "source": [
    "# Excersi-\n",
    "\n",
    "#create a program that will generate output [1,1,1,1,1,1,1,1,1,1]\n",
    "# a1=[]\n",
    "# for i in range(0,10):\n",
    "#     a=[]\n",
    "#     for j in range(0,10):\n",
    "#         if i==0 or j==0 or i==9 or j==9:\n",
    "#             a.append(1)\n",
    "#         else:\n",
    "#             a.append(0)\n",
    "#     a1.append(a)\n",
    "# a1\n",
    "\n",
    "np.arange()\n",
    "\n"
   ]
  },
  {
   "cell_type": "code",
   "execution_count": 78,
   "metadata": {},
   "outputs": [
    {
     "data": {
      "text/plain": [
       "array([[1., 1., 1., 1., 1., 1., 1., 1., 1., 1.],\n",
       "       [1., 0., 0., 0., 0., 0., 0., 0., 0., 1.],\n",
       "       [1., 0., 0., 0., 0., 0., 0., 0., 0., 1.],\n",
       "       [1., 0., 0., 0., 0., 0., 0., 0., 0., 1.],\n",
       "       [1., 0., 0., 0., 0., 0., 0., 0., 0., 1.],\n",
       "       [1., 0., 0., 0., 0., 0., 0., 0., 0., 1.],\n",
       "       [1., 0., 0., 0., 0., 0., 0., 0., 0., 1.],\n",
       "       [1., 0., 0., 0., 0., 0., 0., 0., 0., 1.],\n",
       "       [1., 0., 0., 0., 0., 0., 0., 0., 0., 1.],\n",
       "       [1., 1., 1., 1., 1., 1., 1., 1., 1., 1.]])"
      ]
     },
     "execution_count": 78,
     "metadata": {},
     "output_type": "execute_result"
    }
   ],
   "source": [
    "#create matrix where boundaries are 1's\n",
    "a=np.ones((10,10))\n",
    "a[1:-1,1:-1]=0\n",
    "# a[0]=1\n",
    "# a[9]=1\n",
    "# a[:,0]=1\n",
    "# a[:,9]=1\n",
    "a"
   ]
  },
  {
   "cell_type": "code",
   "execution_count": 87,
   "metadata": {},
   "outputs": [
    {
     "data": {
      "text/plain": [
       "array([[1., 0., 1., 0., 1., 0., 1., 0., 1., 0.],\n",
       "       [0., 1., 0., 1., 0., 1., 0., 1., 0., 1.],\n",
       "       [1., 0., 1., 0., 1., 0., 1., 0., 1., 0.],\n",
       "       [0., 1., 0., 1., 0., 1., 0., 1., 0., 1.],\n",
       "       [1., 0., 1., 0., 1., 0., 1., 0., 1., 0.],\n",
       "       [0., 1., 0., 1., 0., 1., 0., 1., 0., 1.],\n",
       "       [1., 0., 1., 0., 1., 0., 1., 0., 1., 0.],\n",
       "       [0., 1., 0., 1., 0., 1., 0., 1., 0., 1.],\n",
       "       [1., 0., 1., 0., 1., 0., 1., 0., 1., 0.],\n",
       "       [0., 1., 0., 1., 0., 1., 0., 1., 0., 1.]])"
      ]
     },
     "execution_count": 87,
     "metadata": {},
     "output_type": "execute_result"
    }
   ],
   "source": [
    "#create a checkered box\n",
    "b=np.zeros((10,10))\n",
    "b[::2,::2]=1\n",
    "b[1::2,1::2]=1\n",
    "b"
   ]
  },
  {
   "cell_type": "code",
   "execution_count": 89,
   "metadata": {},
   "outputs": [],
   "source": [
    "#Mathematical operations on Numpy Array\n",
    "\n",
    "arr_13=np.array([[\n",
    "            [1,3,5],\n",
    "            [4,8,7],\n",
    "            [9,11,13]],\n",
    "         [[2,4,7],\n",
    "          [3,1,5],\n",
    "          [5,2,8]]])"
   ]
  },
  {
   "cell_type": "code",
   "execution_count": 96,
   "metadata": {},
   "outputs": [
    {
     "name": "stdout",
     "output_type": "stream",
     "text": [
      "98\n",
      "[[ 3  7 12]\n",
      " [ 7  9 12]\n",
      " [14 13 21]]\n",
      "[[14 22 25]\n",
      " [10  7 20]]\n",
      "13\n",
      "1\n",
      "(array([2, 2, 2, 2, 3, 3, 3, 3, 4, 4, 4, 4]), array([0, 1, 2, 3, 0, 1, 2, 3, 0, 1, 2, 3]))\n"
     ]
    }
   ],
   "source": [
    "print(arr_13.sum())\n",
    "#row wise addition\n",
    "print(arr_13.sum(axis=0))\n",
    "\n",
    "#Column wise addition\n",
    "print(arr_13.sum(axis=1))\n",
    "\n",
    "#min()\n",
    "print(arr_13.max())\n",
    "\n",
    "#max()\n",
    "print(arr_13.min())\n",
    "\n",
    "#where() - returns index position for condition =True\n",
    "\n",
    "arr_14=np.arange(1,21).reshape(5,4)\n",
    "print(np.where(arr_14>8))\n",
    "\n"
   ]
  },
  {
   "cell_type": "code",
   "execution_count": 108,
   "metadata": {},
   "outputs": [
    {
     "name": "stdout",
     "output_type": "stream",
     "text": [
      "18.5\n",
      "[16. 17. 18. 19. 20. 21.]\n",
      "[ 3.5  9.5 15.5 21.5 27.5 33.5]\n",
      "10.388294694831615\n",
      "107.91666666666667\n",
      "[0]\n",
      "[[[50 49 48 47 46]\n",
      "  [45 44 43 42 41]\n",
      "  [40 39 38 37 36]\n",
      "  [35 34 33 32 31]\n",
      "  [30 29 28 27 26]]\n",
      "\n",
      " [[25 24 23 22 21]\n",
      "  [20 19 18 17 16]\n",
      "  [15 14 13 12 11]\n",
      "  [10  9  8  7  6]\n",
      "  [ 5  4  3  2  1]]]\n",
      "[[[26 27 28 29 30]\n",
      "  [31 32 33 34 35]\n",
      "  [36 37 38 39 40]\n",
      "  [41 42 43 44 45]\n",
      "  [46 47 48 49 50]]\n",
      "\n",
      " [[ 1  2  3  4  5]\n",
      "  [ 6  7  8  9 10]\n",
      "  [11 12 13 14 15]\n",
      "  [16 17 18 19 20]\n",
      "  [21 22 23 24 25]]]\n",
      "[[[26 27 28 29 30]\n",
      "  [31 32 33 34 35]\n",
      "  [36 37 38 39 40]\n",
      "  [41 42 43 44 45]\n",
      "  [46 47 48 49 50]]\n",
      "\n",
      " [[ 1  2  3  4  5]\n",
      "  [ 6  7  8  9 10]\n",
      "  [11 12 13 14 15]\n",
      "  [16 17 18 19 20]\n",
      "  [21 22 23 24 25]]]\n",
      "[[48 15 43]\n",
      " [41 39 14]\n",
      " [26 11 16]\n",
      " [49 17 19]\n",
      " [14 22 19]]\n",
      "[18 11 13 15 23 56 34 44  0 45  4 34 18 11 13 15  1  1  1  1  0 45  4 34]\n"
     ]
    }
   ],
   "source": [
    "arr_15=np.arange(1,37).reshape(6,6)\n",
    "print(arr_15.mean()) #calculate mean\n",
    "print(arr_15.mean(axis=0)) #calucalte mean row wise\n",
    "print(arr_15.mean(axis=1)) #calculate mean column wise\n",
    "\n",
    "print(np.std(arr_15)) #standard deviation\n",
    "print(np.var(arr_15)) #variance\n",
    "\n",
    "#Reversing an array\n",
    "\n",
    "arr_16=np.arange(50)\n",
    "\n",
    "#step size=-1\n",
    "print(arr_16[0::-1])\n",
    "\n",
    "#flip the array\n",
    "print(np.flip(array_6))\n",
    "\n",
    "#flip the rows up and down\n",
    "print(np.flipud(array_6))\n",
    "\n",
    "#flip the rows left and right\n",
    "print(np.flipud(array_6))\n",
    "\n",
    "#Flatten = To convert n- d Array into 1-D Array\n",
    "\n",
    "array_17=np.random.randint(10,50, size=(5,3))\n",
    "print(array_17)\n",
    "print(arr_4.flatten())\n"
   ]
  },
  {
   "cell_type": "code",
   "execution_count": 110,
   "metadata": {},
   "outputs": [
    {
     "name": "stdout",
     "output_type": "stream",
     "text": [
      "[[32 31 41]\n",
      " [47 41 44]\n",
      " [25 18 43]\n",
      " [28 24 23]\n",
      " [29 24 27]]\n",
      "[32 31 41 47 41 44 25 18 43 28 24 23 29 24 27]\n"
     ]
    }
   ],
   "source": [
    "#ravel()- Flattens N-D array to 1-D Array\n",
    "\n",
    "array_17=np.random.randint(10,50, size=(5,3))\n",
    "print(array_17)\n",
    "print(array_17.ravel())"
   ]
  },
  {
   "cell_type": "code",
   "execution_count": 116,
   "metadata": {},
   "outputs": [
    {
     "name": "stdout",
     "output_type": "stream",
     "text": [
      "[[49 28 19]\n",
      " [28 33 19]\n",
      " [28 45 21]\n",
      " [15 35 37]\n",
      " [28 26 19]]\n",
      "[0 2 3]\n",
      "6\n"
     ]
    }
   ],
   "source": [
    "# np.argmax() - Returns Index Position of maximum value along axis\n",
    "array_17=np.random.randint(10,50, size=(5,3))\n",
    "print(array_17)\n",
    "print(np.argmax(array_17,axis=0))\n",
    "\n",
    "print(np.argmax([0,0,0,0.8,0.5,0.5,1,0]))"
   ]
  },
  {
   "cell_type": "code",
   "execution_count": null,
   "metadata": {},
   "outputs": [],
   "source": []
  }
 ],
 "metadata": {
  "kernelspec": {
   "display_name": "Python 3",
   "language": "python",
   "name": "python3"
  },
  "language_info": {
   "name": "python",
   "version": "3.12.4"
  }
 },
 "nbformat": 4,
 "nbformat_minor": 2
}
