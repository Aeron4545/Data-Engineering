{
 "cells": [
  {
   "cell_type": "code",
   "execution_count": 2,
   "metadata": {},
   "outputs": [
    {
     "name": "stdout",
     "output_type": "stream",
     "text": [
      "[1, 2, 3, 4]\n",
      "[1, 2, 3]\n",
      "[1, 2, 3]\n"
     ]
    }
   ],
   "source": [
    "l1=[1,2,3,4]\n",
    "\n",
    "l2=[i for i in range(1,4)]\n",
    "\n",
    "l3=[]\n",
    "for i in range(1,4):\n",
    "    l3.append(i)\n",
    "\n",
    "print(l1)\n",
    "print(l2)\n",
    "print(l3)\n"
   ]
  },
  {
   "cell_type": "code",
   "execution_count": 18,
   "metadata": {},
   "outputs": [
    {
     "name": "stdout",
     "output_type": "stream",
     "text": [
      "{1: 'A', 2: 'B', 3: 'C'}\n",
      "{'A': 1, 'B': 2, 'C': 3}\n",
      "{1: 2}\n"
     ]
    }
   ],
   "source": [
    "d={1:\"A\",2:\"B\",3:\"C\"}\n",
    "\n",
    "\n",
    "a=[\"A\",\"B\",\"C\"]\n",
    "b=[1,2,3]\n",
    "d1={}\n",
    "for i in range(0,3):\n",
    "    d1[a[i]]=b[i]\n",
    "\n",
    "\n",
    "d2=dict()\n",
    "d2.update({1:\"A\"})\n",
    "\n",
    "print(d)\n",
    "print(d1)\n",
    "print(d2)\n",
    "\n",
    "\n",
    "\n"
   ]
  }
 ],
 "metadata": {
  "kernelspec": {
   "display_name": "Python 3",
   "language": "python",
   "name": "python3"
  },
  "language_info": {
   "codemirror_mode": {
    "name": "ipython",
    "version": 3
   },
   "file_extension": ".py",
   "mimetype": "text/x-python",
   "name": "python",
   "nbconvert_exporter": "python",
   "pygments_lexer": "ipython3",
   "version": "3.12.4"
  }
 },
 "nbformat": 4,
 "nbformat_minor": 2
}
