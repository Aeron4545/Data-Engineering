{
 "cells": [
  {
   "cell_type": "code",
   "execution_count": 4,
   "metadata": {},
   "outputs": [
    {
     "name": "stdout",
     "output_type": "stream",
     "text": [
      "Employee Name: Uday\n",
      "Department Name: IT\n",
      "<class 'NoneType'>\n"
     ]
    }
   ],
   "source": [
    "#public, private, protected access modifiers\n",
    "\n",
    "#Protected Access Modifier\n",
    "\n",
    "class Employee:\n",
    "    _name=None\n",
    "    _department=None\n",
    "\n",
    "    def __init__(self,name,department):\n",
    "        self._name=name\n",
    "        self._department=department\n",
    "    \n",
    "    def _display(self):\n",
    "        print(\"Employee Name:\",self._name)\n",
    "        print(\"Department Name:\",self._department)\n",
    "\n",
    "class EmpDetails(Employee):\n",
    "    def __init__(self,name,department):\n",
    "        super().__init__(name,department)\n",
    "\n",
    "    def displayDetails(self):\n",
    "        self._display()\n",
    "\n",
    "protectedObj=EmpDetails(\"Uday\",\"IT\")\n",
    "protectedObj.displayDetails()\n",
    "# s=None\n",
    "# print(type(s))"
   ]
  },
  {
   "cell_type": "code",
   "execution_count": 1,
   "metadata": {},
   "outputs": [
    {
     "ename": "AttributeError",
     "evalue": "'EmpDetails' object has no attribute '_EmpDetails__display'",
     "output_type": "error",
     "traceback": [
      "\u001b[1;31m---------------------------------------------------------------------------\u001b[0m",
      "\u001b[1;31mAttributeError\u001b[0m                            Traceback (most recent call last)",
      "Cell \u001b[1;32mIn[1], line 23\u001b[0m\n\u001b[0;32m     20\u001b[0m         \u001b[38;5;28mself\u001b[39m\u001b[38;5;241m.\u001b[39m__display()\n\u001b[0;32m     22\u001b[0m protectedObj\u001b[38;5;241m=\u001b[39mEmpDetails(\u001b[38;5;124m\"\u001b[39m\u001b[38;5;124mUday\u001b[39m\u001b[38;5;124m\"\u001b[39m,\u001b[38;5;124m\"\u001b[39m\u001b[38;5;124mIT\u001b[39m\u001b[38;5;124m\"\u001b[39m)\n\u001b[1;32m---> 23\u001b[0m \u001b[43mprotectedObj\u001b[49m\u001b[38;5;241;43m.\u001b[39;49m\u001b[43mdisplayDetails\u001b[49m\u001b[43m(\u001b[49m\u001b[43m)\u001b[49m\n",
      "Cell \u001b[1;32mIn[1], line 20\u001b[0m, in \u001b[0;36mEmpDetails.displayDetails\u001b[1;34m(self)\u001b[0m\n\u001b[0;32m     19\u001b[0m \u001b[38;5;28;01mdef\u001b[39;00m \u001b[38;5;21mdisplayDetails\u001b[39m(\u001b[38;5;28mself\u001b[39m):\n\u001b[1;32m---> 20\u001b[0m     \u001b[38;5;28;43mself\u001b[39;49m\u001b[38;5;241;43m.\u001b[39;49m\u001b[43m__display\u001b[49m()\n",
      "\u001b[1;31mAttributeError\u001b[0m: 'EmpDetails' object has no attribute '_EmpDetails__display'"
     ]
    }
   ],
   "source": [
    "#Private access modifier\n",
    "\n",
    "class Employee:\n",
    "    __name=None\n",
    "    __department=None\n",
    "\n",
    "    def __init__(self,name,department):\n",
    "        self.__name=name\n",
    "        self.__department=department\n",
    "    \n",
    "    def __display(self):\n",
    "        print(\"Employee Name:\",self.__name)\n",
    "        print(\"Department Name:\",self.__department)\n",
    "\n",
    "class EmpDetails(Employee):\n",
    "    def __init__(self,name,department):\n",
    "        super().__init__(name,department)\n",
    "\n",
    "    def displayDetails(self):\n",
    "        self.__display()\n",
    "\n",
    "#Cannot access __diplsay as it is  private method\n",
    "protectedObj=EmpDetails(\"Uday\",\"IT\")\n",
    "protectedObj.displayDetails()"
   ]
  }
 ],
 "metadata": {
  "kernelspec": {
   "display_name": "Python 3",
   "language": "python",
   "name": "python3"
  },
  "language_info": {
   "codemirror_mode": {
    "name": "ipython",
    "version": 3
   },
   "file_extension": ".py",
   "mimetype": "text/x-python",
   "name": "python",
   "nbconvert_exporter": "python",
   "pygments_lexer": "ipython3",
   "version": "3.12.4"
  }
 },
 "nbformat": 4,
 "nbformat_minor": 2
}
