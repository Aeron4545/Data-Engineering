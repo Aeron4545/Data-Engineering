{
 "cells": [
  {
   "cell_type": "code",
   "execution_count": 14,
   "metadata": {},
   "outputs": [
    {
     "name": "stdout",
     "output_type": "stream",
     "text": [
      "Reversed string is: edoc cisab a si sihT\n",
      "The start index of basic is:10\n"
     ]
    }
   ],
   "source": [
    "str1=\"This is a basic code\"\n",
    "print(\"Reversed string is:\",str1[::-1]) #same as str[0:len(str1):-1]\n",
    "str1[::-1]\n",
    "\n",
    "str1.lower\n",
    "print(\"The start index of basic is:{}\".format(str1.find('basic')))\n",
    "\n",
    "\n"
   ]
  },
  {
   "cell_type": "code",
   "execution_count": 18,
   "metadata": {},
   "outputs": [
    {
     "data": {
      "text/plain": [
       "'Aeron John'"
      ]
     },
     "execution_count": 18,
     "metadata": {},
     "output_type": "execute_result"
    }
   ],
   "source": [
    "#Using join statement\n",
    "name=[\"Aeron\",\"John\"]\n",
    "\n",
    "' '.join(name)"
   ]
  },
  {
   "cell_type": "code",
   "execution_count": 23,
   "metadata": {},
   "outputs": [
    {
     "name": "stdout",
     "output_type": "stream",
     "text": [
      "er\n",
      "23\n",
      "Hello world \n"
     ]
    }
   ],
   "source": [
    "#default input datatype\n",
    "\n",
    "s=input(\"Enter a string\")\n",
    "\n",
    "s1=int(input(\"Enter a number\"))\n",
    "\n",
    "\n",
    "print(s)\n",
    "print(f'{s1}')\n",
    "\n",
    "#lstrip to remove redundant white spaces from the end of a string for in the case of passwords,emails or \n",
    "#other format specific text\n",
    "sentence=\"Hello world \"\n",
    "print(sentence.lstrip())"
   ]
  },
  {
   "cell_type": "code",
   "execution_count": 30,
   "metadata": {},
   "outputs": [
    {
     "data": {
      "text/plain": [
       "('This,is a basic', ',', ' python tutorial')"
      ]
     },
     "execution_count": 30,
     "metadata": {},
     "output_type": "execute_result"
    }
   ],
   "source": [
    "#partition thr input sentence separated by delimiter (',',\" \",\";\",\":\")\n",
    "sentence=\"This,is a basic, python tutorial\"\n",
    "sentence.rpartition(',')"
   ]
  },
  {
   "cell_type": "code",
   "execution_count": 36,
   "metadata": {},
   "outputs": [
    {
     "name": "stdout",
     "output_type": "stream",
     "text": [
      "['Hello', 'python', 'we', 'are', 'learning', 'lists', 'and', 'other']\n",
      "['Hello', 'python', 'we', 'are', 'learning', 'lists', 'and', 'other', 'changes reflect']\n",
      "['Hello', 'python', 'we', 'are', 'learning', 'lists', 'and', 'other', 'changes reflect']\n",
      "['Hello', 'python', 'we', 'are', 'learning', 'lists', 'and', 'other', 'changes reflect', 'data', 'structures.']\n",
      "['Hello', 'python', 'we', 'are', 'learning', 'lists', 'and', 'other', 'changes reflect']\n",
      "['Hello', 'python', 'we', 'are', 'learning', 'lists', 'and', 'other', 'changes reflect', 'data', 'structures.', 'method', 'to', 'show', 'expand']\n"
     ]
    }
   ],
   "source": [
    "List1={10,20,23+67j,\"This\",'This'}\n",
    "List2=list()\n",
    "list3=['Hello','python','we','are','learning','lists']\n",
    "\n",
    "list3.append(\"and\")\n",
    "list3.append(\"other\")\n",
    "print(list3)\n",
    "\n",
    "#deep copy- copy by reference\n",
    "list2=list3\n",
    "list2.append(\"changes reflect\")\n",
    "print(list2)\n",
    "print(list3)\n",
    "\n",
    "#shallow copy-copy only the values\n",
    "list4=list3.copy()\n",
    "list4.append(\"data\")\n",
    "list4.append(\"structures.\")\n",
    "print(list4)\n",
    "print(list3)\n",
    "\n",
    "list4.extend({'to','show','expand','method'})\n",
    "print(list4)"
   ]
  },
  {
   "cell_type": "code",
   "execution_count": 37,
   "metadata": {},
   "outputs": [
    {
     "name": "stdout",
     "output_type": "stream",
     "text": [
      "(1, 2, 3)\n"
     ]
    }
   ],
   "source": [
    "#tuples iterate faster compared to lists\n",
    "#list manages two memory where tuples manages only one\n",
    "t=(1,2,3)\n",
    "print(t)"
   ]
  },
  {
   "cell_type": "code",
   "execution_count": 45,
   "metadata": {},
   "outputs": [
    {
     "name": "stdout",
     "output_type": "stream",
     "text": [
      "{'A', 'D', 'C', '2'}\n",
      "{'I', 'G', 'J', 'F'}\n",
      "{'E', 'D', '2', 'A', 'C', 'B', 'H'}\n",
      "{'D', '2', 'A', 'C', 'B', 'H'}\n",
      "{'2', 'A', 'C', 'B', 'H'}\n",
      "{1, 2, 3, '2', 'A', 'H', 'C', 'B'}\n",
      "{'E', 1, 2, 3, 'I', 'J', '2', 'A', 'C', 'G', 'F'}\n",
      "{'H', 'B'}\n"
     ]
    }
   ],
   "source": [
    "#Sets- unorderd collection of data. As it is unorderd hence, no indexes are there.\n",
    "set1={'A','B','C','D','E','E','H','A'}\n",
    "set2={'B','F','E','F','G','H','I','J'}\n",
    "set3={'H','I','J','K','L','H','H','O'}\n",
    "\n",
    "set1.add('2')\n",
    "print(set1.difference(set2))\n",
    "print(set2.difference(set1))\n",
    "\n",
    "#removes random value from set\n",
    "print(set1)\n",
    "set1.pop()\n",
    "print(set1)\n",
    "set1.pop()\n",
    "print(set1)\n",
    "\n",
    "#updates the set_1 by dummy input set\n",
    "set1.update({1,2,3})\n",
    "print(set1)\n",
    "\n",
    "#Union of two sets concatenating elements present in either of two sets but not in both\n",
    "print(set1.symmetric_difference(set2))\n",
    "\n",
    "print(set1.intersection(set2))\n"
   ]
  },
  {
   "cell_type": "code",
   "execution_count": 68,
   "metadata": {},
   "outputs": [
    {
     "name": "stdout",
     "output_type": "stream",
     "text": [
      "{'Mumbai': 50, 'Chennai': 20, 'Kochi': 40, 'Banglore': 60, 'Trivandrum': 30}\n",
      "dict_items([('Mumbai', 50), ('Chennai', 20), ('Kochi', 40), ('Banglore', 60), ('Trivandrum', 30)])\n",
      "{'kochi': 20, 'trivandrum': 40, 'kottayam': 40, 'pala': 60}\n",
      "A Apple\n",
      "B BlueBerry\n",
      "C Coconut\n",
      "D Donuts\n",
      "E Eclairs\n"
     ]
    }
   ],
   "source": [
    "#Dictionary\n",
    "#method 1\n",
    "d1=dict()\n",
    "\n",
    "d1={'A':'Apple','B':'BlueBerry','C':'Coconut','D':'Donuts','E':'Eclairs'}\n",
    "\n",
    "city=[\"Mumbai\",\"Chennai\",\"Kochi\",\"Banglore\",\"Trivandrum\"]\n",
    "d2=dict.fromkeys(city,1)\n",
    "\n",
    "employee={20,30,40,50,60}\n",
    "\n",
    "#method 2\n",
    "d5=dict(zip(city,employee))\n",
    "print(d5)\n",
    "\n",
    "print(d5.items())\n",
    "\n",
    "\n",
    "#method 3\n",
    "d6=dict([('kochi',20),('trivandrum',40),('kottayam',40),('pala',60)])\n",
    "print(d6)\n",
    "\n",
    "for key,value in d1.items():\n",
    "    print(key,value)"
   ]
  },
  {
   "cell_type": "code",
   "execution_count": 73,
   "metadata": {},
   "outputs": [
    {
     "name": "stdout",
     "output_type": "stream",
     "text": [
      "0 A\n",
      "1 B\n",
      "2 C\n",
      "3 D\n"
     ]
    }
   ],
   "source": [
    "l=['A','B','C','D']\n",
    "for k,v in enumerate(l):\n",
    "    print(k,v)"
   ]
  }
 ],
 "metadata": {
  "kernelspec": {
   "display_name": "Python 3",
   "language": "python",
   "name": "python3"
  },
  "language_info": {
   "codemirror_mode": {
    "name": "ipython",
    "version": 3
   },
   "file_extension": ".py",
   "mimetype": "text/x-python",
   "name": "python",
   "nbconvert_exporter": "python",
   "pygments_lexer": "ipython3",
   "version": "3.12.4"
  }
 },
 "nbformat": 4,
 "nbformat_minor": 2
}
