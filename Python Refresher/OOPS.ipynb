{
 "cells": [
  {
   "cell_type": "code",
   "execution_count": 11,
   "metadata": {},
   "outputs": [
    {
     "name": "stdout",
     "output_type": "stream",
     "text": [
      "Name:John Doe\n",
      "Age:24\n",
      "Email:john@gmail.com\n",
      "Time00:00:00\n"
     ]
    }
   ],
   "source": [
    "import datetime\n",
    "\n",
    "class Person:\n",
    "    def __init__(self,*args):\n",
    "        if len(args)>3:\n",
    "            self.name=args[0]\n",
    "            self.age=args[1]\n",
    "            self.email=args[2]\n",
    "            self.time=args[3]\n",
    "        else:\n",
    "            raise ValueError(\"Not enough parameters passed\")\n",
    "    \n",
    "    def display(self):\n",
    "        print(\"Name:\"+self.name)\n",
    "        print(\"Age:\"+str(self.age))\n",
    "        print(\"Email:\"+self.email)\n",
    "        print(\"Time\"+str(self.time))\n",
    "\n",
    "p1=Person(\"John Doe\",24,\"john@gmail.com\",datetime.time())\n",
    "p1.display()"
   ]
  },
  {
   "cell_type": "code",
   "execution_count": 18,
   "metadata": {},
   "outputs": [
    {
     "name": "stdout",
     "output_type": "stream",
     "text": [
      "Brand:Hyundai\n",
      "Model:Creta\n",
      "Mileag:22\n",
      "Speed:150\n",
      "Color:Black\n"
     ]
    }
   ],
   "source": [
    "#Inheritance example\n",
    "#single level inheritance\n",
    "\n",
    "class vehicle:\n",
    "    def __init__(self,brand,model,mileage):\n",
    "        self.brand=brand\n",
    "        self.model=model\n",
    "        self.mileage=mileage\n",
    "\n",
    "#subclass or child class for vehicle\n",
    "class car(vehicle):\n",
    "    def __init__(self,brand,model,mileage,speed,color):\n",
    "        super().__init__(brand,model,mileage)\n",
    "        self.speed=speed\n",
    "        self.color=color\n",
    "    def display(self):\n",
    "        print(\"Brand:\"+self.brand)\n",
    "        print(\"Model:\"+self.model)\n",
    "        print(\"Mileag:\"+str(self.mileage))\n",
    "        print(\"Speed:\"+str(self.speed))\n",
    "        print(\"Color:\"+self.color)\n",
    "\n",
    "c=car(\"Hyundai\",\"Creta\",22,150,\"Black\")\n",
    "c.display()\n"
   ]
  },
  {
   "cell_type": "code",
   "execution_count": null,
   "metadata": {},
   "outputs": [],
   "source": [
    "#Multi-Level Inheritance\n",
    "\n",
    "class country:\n",
    "    def __init__(self,country_name,population,continent):\n",
    "        self.country_name=country_name\n",
    "        self.population=population\n",
    "        self.continent=continent\n",
    "\n",
    "class state(country):\n",
    "    def __init__(self,country_name, population, continent,):\n",
    "        super().__init__(country_name,population, continent)\n"
   ]
  },
  {
   "cell_type": "code",
   "execution_count": 1,
   "metadata": {},
   "outputs": [
    {
     "name": "stdout",
     "output_type": "stream",
     "text": [
      "Admin has following permissions: Read, Write, Execute\n"
     ]
    }
   ],
   "source": [
    "#Multi-Level Inheritance\n",
    "#Access Permission\n",
    "class Entity:\n",
    "    def __init__(self,name):\n",
    "        self.name=name\n",
    "class User(Entity):\n",
    "    def __init__(self,name,email):\n",
    "        super().__init__(name)\n",
    "        self.emai=email\n",
    "\n",
    "class admin(User):\n",
    "    def __init__(self, name, email,permissions):\n",
    "        super().__init__(name, email)\n",
    "        self.permissions=permissions\n",
    "    def display(self):\n",
    "        return f\"{self.name} has following permissions: {', '.join(self.permissions)}\"\n",
    "    \n",
    "firstObj=admin(\"Admin\",\"admin@example.com\",[\"Read\",\"Write\",\"Execute\"])\n",
    "print(firstObj.display())\n"
   ]
  },
  {
   "cell_type": "code",
   "execution_count": 4,
   "metadata": {},
   "outputs": [
    {
     "name": "stdout",
     "output_type": "stream",
     "text": [
      "Android phone description\n",
      "Brnad:Samsung, Model:S22,Color:Black\n",
      "OS: Android 14, OSVersion:14, Processing:Fast\n",
      "\n",
      "iphone description\n",
      "Brnad:Apple, Model:Iphone 15,Color:Black\n",
      "OS: IOS 17, OSVersion:17.6.1, Processing:Fast\n"
     ]
    }
   ],
   "source": [
    "#Hierarchical Inheritance\n",
    "class Phone:\n",
    "    def __init__(self,brand,model,color):\n",
    "        self.brand=brand\n",
    "        self.model=model\n",
    "        self.color=color\n",
    "\n",
    "class Android(Phone):\n",
    "    def __init__(self, brand, model, color,os,osversion,processing):\n",
    "        super().__init__(brand, model, color)\n",
    "        self.os=os\n",
    "        self.osversion=osversion\n",
    "        self.processing=processing\n",
    "    \n",
    "    def androiddisplay(self):\n",
    "        print(\"Android phone description\")\n",
    "        print(f\"Brnad:{self.brand}, Model:{self.model},Color:{self.color}\")\n",
    "        print(f\"OS: {self.os}, OSVersion:{self.osversion}, Processing:{self.processing}\")\n",
    "\n",
    "class IOS(Phone):\n",
    "    def __init__(self, brand, model, color,os,osversion,processing):\n",
    "        super().__init__(brand, model, color)\n",
    "        self.os=os\n",
    "        self.osversion=osversion\n",
    "        self.processing=processing\n",
    "    \n",
    "    def appledisplay(self):\n",
    "        print()\n",
    "        print(\"iphone description\")\n",
    "        print(f\"Brnad:{self.brand}, Model:{self.model},Color:{self.color}\")\n",
    "        print(f\"OS: {self.os}, OSVersion:{self.osversion}, Processing:{self.processing}\")\n",
    "\n",
    "\n",
    "a1=Android(\"Samsung\",\"S22\",\"Black\",\"Android 14\",\"14\",\"Fast\")\n",
    "i1=IOS(\"Apple\",\"Iphone 15\",\"Black\",\"IOS 17\",\"17.6.1\",\"Fast\")\n",
    "a1.androiddisplay()\n",
    "i1.appledisplay()\n",
    "\n"
   ]
  },
  {
   "cell_type": "code",
   "execution_count": 8,
   "metadata": {},
   "outputs": [
    {
     "name": "stdout",
     "output_type": "stream",
     "text": [
      "Graduate Details\n",
      "Name:Aeron, School:SAM, Stream:Computer Science\n",
      "College:RSET,Course:B.Tech \n"
     ]
    }
   ],
   "source": [
    "#Mutliple Inheritance\n",
    "class school:\n",
    "    def __init__(self,school_name,stream):\n",
    "        self.school_name=school_name\n",
    "        self.stream=stream\n",
    "\n",
    "class college:\n",
    "    def __init__(self,college_name,course):\n",
    "        self.college_name=college_name\n",
    "        self.course=course\n",
    "\n",
    "class graduate(school,college):\n",
    "    def __init__(self, name,school_name, stream,college_name,course,):\n",
    "        self.name=name\n",
    "        school.__init__(self,school_name, stream)\n",
    "        college.__init__(self,college_name,course)\n",
    "    def display(self):\n",
    "        print(\"Graduate Details\")\n",
    "        print(f\"Name:{self.name}, School:{self.school_name}, Stream:{ self.stream}\")\n",
    "        print(f\"College:{self.college_name},Course:{self.course} \")\n",
    "        \n",
    "g=graduate(\"Aeron\",\"SAM\",\"Computer Science\",\"RSET\",\"B.Tech\")\n",
    "g.display()\n"
   ]
  },
  {
   "cell_type": "code",
   "execution_count": 1,
   "metadata": {},
   "outputs": [
    {
     "name": "stdout",
     "output_type": "stream",
     "text": [
      "Debit card payment of - 1000\n"
     ]
    }
   ],
   "source": [
    "#Abstraction\n",
    "\n",
    "from abc import ABC, abstractmethod\n",
    "\n",
    "class Bill(ABC):\n",
    "    def print_slip(self,amount):\n",
    "        print(\"Purchase Amount\")\n",
    "\n",
    "    @abstractmethod\n",
    "    def bill(self,ampunt):\n",
    "        pass\n",
    "\n",
    "class DebitCardPayment(Bill):\n",
    "    #Method overriding\n",
    "    def bill(self,amount):\n",
    "        print(\"Debit card payment of -\",amount)\n",
    "    \n",
    "absObj=DebitCardPayment()\n",
    "absObj.bill(1000)"
   ]
  }
 ],
 "metadata": {
  "kernelspec": {
   "display_name": "Python 3",
   "language": "python",
   "name": "python3"
  },
  "language_info": {
   "codemirror_mode": {
    "name": "ipython",
    "version": 3
   },
   "file_extension": ".py",
   "mimetype": "text/x-python",
   "name": "python",
   "nbconvert_exporter": "python",
   "pygments_lexer": "ipython3",
   "version": "3.12.4"
  }
 },
 "nbformat": 4,
 "nbformat_minor": 2
}
