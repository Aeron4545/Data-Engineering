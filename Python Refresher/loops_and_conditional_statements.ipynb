{
 "cells": [
  {
   "cell_type": "code",
   "execution_count": 1,
   "metadata": {},
   "outputs": [
    {
     "name": "stdout",
     "output_type": "stream",
     "text": [
      "0\n",
      "2\n",
      "4\n",
      "6\n",
      "8\n",
      "10\n",
      "12\n",
      "14\n",
      "16\n",
      "18\n",
      "20\n",
      "22\n",
      "24\n"
     ]
    }
   ],
   "source": [
    "#Count controller loop\n",
    "condition=0\n",
    "while condition<=12:\n",
    "    print(2*condition)\n",
    "    condition+=1"
   ]
  },
  {
   "cell_type": "code",
   "execution_count": 2,
   "metadata": {},
   "outputs": [
    {
     "name": "stdout",
     "output_type": "stream",
     "text": [
      "10\n",
      "11\n",
      "12\n",
      "13\n",
      "14\n",
      "15\n",
      "16\n",
      "17\n",
      "18\n",
      "19\n",
      "20\n"
     ]
    }
   ],
   "source": [
    "#Count controlled loop\n",
    "for num in range(10,21):\n",
    "    print(num)"
   ]
  },
  {
   "cell_type": "code",
   "execution_count": 10,
   "metadata": {},
   "outputs": [
    {
     "name": "stdout",
     "output_type": "stream",
     "text": [
      "10\n",
      "20\n",
      "30\n",
      "40\n",
      "50\n",
      "60\n",
      "70\n",
      "80\n",
      "90\n",
      "a\n",
      "e\n",
      "r\n",
      "o\n",
      "n\n"
     ]
    }
   ],
   "source": [
    "#Collection controlled loop\n",
    "list1=[10,20,30,40,50,60,70,80,90]\n",
    "s=\"aeron\"\n",
    "\n",
    "for value in list1:\n",
    "    print(value)\n",
    "\n",
    "\n",
    "for value in s:\n",
    "    print(value)"
   ]
  },
  {
   "cell_type": "code",
   "execution_count": 7,
   "metadata": {},
   "outputs": [
    {
     "name": "stdout",
     "output_type": "stream",
     "text": [
      "['False', 'None', 'True', 'and', 'as', 'assert', 'async', 'await', 'break', 'class', 'continue', 'def', 'del', 'elif', 'else', 'except', 'finally', 'for', 'from', 'global', 'if', 'import', 'in', 'is', 'lambda', 'nonlocal', 'not', 'or', 'pass', 'raise', 'return', 'try', 'while', 'with', 'yield']\n"
     ]
    }
   ],
   "source": [
    "#35 reserved keywords in python\n",
    "\n",
    "import keyword\n",
    "print(keyword.kwlist)"
   ]
  },
  {
   "cell_type": "code",
   "execution_count": 8,
   "metadata": {},
   "outputs": [
    {
     "name": "stdout",
     "output_type": "stream",
     "text": [
      "<class 'list'>\n"
     ]
    }
   ],
   "source": [
    "print(type(list1))"
   ]
  },
  {
   "cell_type": "code",
   "execution_count": null,
   "metadata": {},
   "outputs": [],
   "source": [
    "#To clear contents in a list\n",
    "list1.clear()\n",
    "\n",
    "#Delete a python object\n",
    "\n",
    "del(list1)"
   ]
  },
  {
   "cell_type": "code",
   "execution_count": 3,
   "metadata": {},
   "outputs": [
    {
     "name": "stdout",
     "output_type": "stream",
     "text": [
      "Sister is elder\n"
     ]
    }
   ],
   "source": [
    "#Conditional Statements\n",
    "\n",
    "bro_age=int(input(\"Enter Brother's Age\"))\n",
    "sister_age=int(input(\"Enter Sister's age\"))\n",
    "\n",
    "if bro_age>sister_age:\n",
    "    print(\"Brother is elder.\")\n",
    "elif bro_age<sister_age:\n",
    "    print(\"Sister is elder\")\n",
    "else:\n",
    "    print(\"Both are twins.\")"
   ]
  },
  {
   "cell_type": "code",
   "execution_count": 1,
   "metadata": {},
   "outputs": [
    {
     "name": "stdout",
     "output_type": "stream",
     "text": [
      "\n",
      "Invalid choice\n",
      "login\n",
      "Incorrect username or password\n",
      "password\n",
      "Invalid choice\n",
      "login\n",
      "Incorrect username or password\n",
      "password\n",
      "Invalid choice\n"
     ]
    }
   ],
   "source": [
    "#create a login access using loop and condition\n",
    "\n",
    "while True:\n",
    "    c=input(\"Choose an option 1.Login 2.Quit\")\n",
    "    if c==\"login\":\n",
    "        username=input(\"Enter username\")\n",
    "        password=input(\"Enter user password\")\n",
    "        if username=='admin' and password=='password':\n",
    "            print(\"Login successfull welcome on board\")\n",
    "        else:\n",
    "            print(\"Incorrect username or password\")\n",
    "    elif c=='2':\n",
    "        print(\"Exiting from the program.GoodBye\")\n",
    "        break\n",
    "    else:\n",
    "        print(\"Invalid choice\")\n"
   ]
  },
  {
   "cell_type": "code",
   "execution_count": 4,
   "metadata": {},
   "outputs": [
    {
     "name": "stdout",
     "output_type": "stream",
     "text": [
      "kochi\n",
      "trivandrum\n",
      "Kottayam\n",
      "Pala\n",
      "Vizag\n",
      "thrissur\n"
     ]
    }
   ],
   "source": [
    "#break\n",
    "\n",
    "city=['kochi','trivandrum',None,'Kottayam',None,None,'Pala','Vizag','thrissur']\n",
    "for c in city:\n",
    "    if c==None:\n",
    "        continue\n",
    "    else:\n",
    "        print(c)"
   ]
  },
  {
   "cell_type": "code",
   "execution_count": 5,
   "metadata": {},
   "outputs": [
    {
     "name": "stdout",
     "output_type": "stream",
     "text": [
      "kochi\n",
      "trivandrum\n"
     ]
    }
   ],
   "source": [
    "#break\n",
    "city=['kochi','trivandrum',None,'Kottayam',None,None,'Pala','Vizag','thrissur']\n",
    "for c in city:\n",
    "    if c==None:\n",
    "        break\n",
    "    else:\n",
    "        print(c)"
   ]
  },
  {
   "cell_type": "code",
   "execution_count": 12,
   "metadata": {},
   "outputs": [
    {
     "name": "stdout",
     "output_type": "stream",
     "text": [
      "[2, 4, 6, 8, 10]\n",
      "[2, 4, 6]\n",
      "15\n"
     ]
    }
   ],
   "source": [
    "#In build function map reduce and filter\n",
    "\n",
    "#map()\n",
    "\n",
    "s=[1,2,3,4,5]\n",
    "s1=list(map(lambda x:x*2,s))\n",
    "print(s1)\n",
    "\n",
    "#filter()\n",
    "\n",
    "f=[1,2,3,4,5,6,]\n",
    "f1=list(filter(lambda x:x%2==0,f))\n",
    "print(f1)\n",
    "\n",
    "#reduce()\n",
    "\n",
    "from functools import reduce\n",
    "r=[1,2,3,4,5]\n",
    "\n",
    "r1=reduce(lambda x,y:x+y,r)\n",
    "print(r1)"
   ]
  },
  {
   "cell_type": "code",
   "execution_count": 63,
   "metadata": {},
   "outputs": [
    {
     "name": "stdout",
     "output_type": "stream",
     "text": [
      "Top revenue product is:iphone and revenue is:220000\n",
      "Laptop:140000\n",
      "iphone:220000\n",
      "smarttv:75000\n",
      "Gaming Console:35000\n",
      "Mouse:500\n"
     ]
    },
    {
     "data": {
      "text/plain": [
       "'\\ndef greatest(x,y):\\n    if x[\"amount\"]>y[\"amount\"]:\\n        return x\\n    else:\\n        return y\\n    \\nsales_accumulating=reduce(accumulate,sales,defaultdict(int))\\nquantity_accumulating=reduce(accumulate_quantity,sales,defaultdict(int))\\n    \\ngreatest_revenue=reduce(greatest,sales)\\nprint(sales_accumulating)\\nprint(\"Highest revenue product and price is:\",greatest_revenue)\\nprint(quantity_accumulating)\\n\\nprint(sales_accumulating[max(quantity_accumulating.values())])\\n'"
      ]
     },
     "execution_count": 63,
     "metadata": {},
     "output_type": "execute_result"
    }
   ],
   "source": [
    "#Create a Function and apply it on reduce() method to return aggregate sales data\n",
    "\n",
    "#reduce(function,iterable,initializer); Initializer- a starting value used to initialize\n",
    "\n",
    "from collections import defaultdict\n",
    "\n",
    "sales=[{'Product':'Laptop','amount':50000},{'Product':'iphone','amount':150000},{'Product':'smarttv','amount':75000},\n",
    "       {'Product':'Gaming Console','amount':35000},{'Product':'Mouse','amount':500},{'Product':'iphone','amount':70000},\n",
    "       {'Product':'Laptop','amount':90000}]\n",
    "d={}\n",
    "def accumulate(accumulator,transaction):\n",
    "    product=transaction[\"Product\"]\n",
    "    amount=transaction[\"amount\"]\n",
    "    accumulator[product]+=amount\n",
    "    return accumulator\n",
    "\n",
    "def accumulate_quantity(accumulator,transaction):\n",
    "    product=transaction[\"Product\"]\n",
    "    amount=transaction[\"amount\"]\n",
    "    accumulator[product]+=1\n",
    "    return accumulator\n",
    "\n",
    "\n",
    "total_sales=reduce(accumulate,sales,defaultdict(int))\n",
    " #Top selling product and revenue\n",
    "top_selling_product=max(total_sales,key=total_sales.get)\n",
    "top_selling_revenue=total_sales[top_selling_product]\n",
    "print(\"Top revenue product is:\"+top_selling_product+\" and revenue is:\"+str(top_selling_revenue))\n",
    "\n",
    "for k,v in total_sales.items():\n",
    "    print(k+\":\"+str(v))\n",
    "\n",
    " \n",
    "'''\n",
    "def greatest(x,y):\n",
    "    if x[\"amount\"]>y[\"amount\"]:\n",
    "        return x\n",
    "    else:\n",
    "        return y\n",
    "    \n",
    "sales_accumulating=reduce(accumulate,sales,defaultdict(int))\n",
    "quantity_accumulating=reduce(accumulate_quantity,sales,defaultdict(int))\n",
    "    \n",
    "greatest_revenue=reduce(greatest,sales)\n",
    "print(sales_accumulating)\n",
    "print(\"Highest revenue product and price is:\",greatest_revenue)\n",
    "print(quantity_accumulating)\n",
    "\n",
    "print(sales_accumulating[max(quantity_accumulating.values())])\n",
    "'''"
   ]
  },
  {
   "cell_type": "code",
   "execution_count": 78,
   "metadata": {},
   "outputs": [
    {
     "data": {
      "text/plain": [
       "15"
      ]
     },
     "execution_count": 78,
     "metadata": {},
     "output_type": "execute_result"
    }
   ],
   "source": [
    "# *args and **kwargs\n",
    "\n",
    "def total(*args):\n",
    "    return sum(args)\n",
    "l=[1,2,3,4,5]\n",
    "\n",
    "#total(1,2,3,4,5)\n",
    "total(*l)"
   ]
  },
  {
   "cell_type": "code",
   "execution_count": 81,
   "metadata": {},
   "outputs": [
    {
     "name": "stdout",
     "output_type": "stream",
     "text": [
      "Name:Aeron\n",
      "Number:20\n"
     ]
    }
   ],
   "source": [
    "def details(**kwargs):\n",
    "    for key,value in kwargs.items():\n",
    "        print(key+\":\"+str(value))\n",
    "#details(Name=\"Aeron\",Number=20)\n",
    "\n",
    "det={\"Name\":\"Aeron\",\"Number\":20}\n",
    "details(**det)"
   ]
  }
 ],
 "metadata": {
  "kernelspec": {
   "display_name": "Python 3",
   "language": "python",
   "name": "python3"
  },
  "language_info": {
   "codemirror_mode": {
    "name": "ipython",
    "version": 3
   },
   "file_extension": ".py",
   "mimetype": "text/x-python",
   "name": "python",
   "nbconvert_exporter": "python",
   "pygments_lexer": "ipython3",
   "version": "3.12.4"
  }
 },
 "nbformat": 4,
 "nbformat_minor": 2
}
