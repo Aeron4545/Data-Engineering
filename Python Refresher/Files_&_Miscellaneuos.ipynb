{
 "cells": [
  {
   "cell_type": "code",
   "execution_count": 1,
   "metadata": {},
   "outputs": [
    {
     "name": "stdout",
     "output_type": "stream",
     "text": [
      "Display Today's Date: 2024-08-09\n",
      "2024-08-09 11:08:42.537126\n"
     ]
    }
   ],
   "source": [
    "#Use Datetime Package\n",
    "\n",
    "import datetime\n",
    "\n",
    "print(\"Display Today's Date:\",datetime.date.today())\n",
    "print(datetime.datetime.now())\n"
   ]
  },
  {
   "cell_type": "code",
   "execution_count": 3,
   "metadata": {},
   "outputs": [
    {
     "name": "stdout",
     "output_type": "stream",
     "text": [
      "Day: 9 Month: 8 Year: 2024\n"
     ]
    }
   ],
   "source": [
    "today=datetime.date.today()\n",
    "print(\"Day:\",today.day,\"Month:\",today.month,\"Year:\",today.year)"
   ]
  },
  {
   "cell_type": "code",
   "execution_count": 11,
   "metadata": {},
   "outputs": [
    {
     "name": "stdout",
     "output_type": "stream",
     "text": [
      "22\n"
     ]
    }
   ],
   "source": [
    "#Usage of Datetime in Example\n",
    "\n",
    "class Person:\n",
    "    def __init__(self,name,surname,birthdate,adress,contact,email):\n",
    "        self.name=name\n",
    "        self.surname=surname\n",
    "        self.birthdate=birthdate\n",
    "        self.address=adress\n",
    "        self.contact=contact\n",
    "        self.email=email\n",
    "    def age(self):\n",
    "        today=datetime.date.today()\n",
    "        age=today.year-self.birthdate.year\n",
    "        if today<datetime.date(today.year,self.birthdate.month,self.birthdate.day):\n",
    "            age-=1\n",
    "        if age<0:\n",
    "            print(\"Person is not Born\")\n",
    "        return age\n",
    "\n",
    "person=Person(\"Aeron\",\"xyz\",datetime.date(2002,3,12),\"UST Trivandrum Kerala\",\"9876543210\",\"aeron@example.xom\")\n",
    "print(person.age())\n"
   ]
  },
  {
   "cell_type": "code",
   "execution_count": null,
   "metadata": {},
   "outputs": [],
   "source": [
    "#Files Handling\n",
    "#r+:read and append\n",
    "#w+:write and append used when file already has content\n",
    "#w:to write into a new file it write into an empty file\n"
   ]
  },
  {
   "cell_type": "code",
   "execution_count": 22,
   "metadata": {},
   "outputs": [
    {
     "name": "stdout",
     "output_type": "stream",
     "text": [
      "newfile.txt\n",
      "The 2024 Summer Olympics, officially the Games of the XXXIII Olympiad and branded as \n",
      "Paris 2024, is an international multi-sport event taking place from 24 July to 11 August \n",
      "2024 in France, with the opening ceremony having taken place on 26 July. \n",
      "Paris is the host city, with events held in 16 additional cities spread across \n",
      "Metropolitan France, and one subsite in Tahiti, French Polynesia.\n",
      "\n",
      "newtextfile.txt\n",
      "This is the new content added to the new file.\n",
      "This is the new content added to the new file.\n",
      "This is the new content added to the new file.This is another content added at the EOF.\n",
      "\n"
     ]
    }
   ],
   "source": [
    "#Open the file in default mode- read mode\n",
    "\n",
    "fileobj=open('newfile.txt')\n",
    "print(\"newfile.txt\")\n",
    "print(fileobj.read())\n",
    "\n",
    "fileobj=open(\"newfile.txt\",\"r\")\n",
    "fileobj=open(\"newtextfile.txt\",\"w\")\n",
    "\n",
    "fileobj.write(\"This is the new content added to the new file.\")\n",
    "fileobj.close()\n",
    "\n",
    "# 'r+'- open the tile in read and write mode\n",
    "fileobj1=open(\"newtextfile.txt\",\"r+\")\n",
    "print(\"\\nnewtextfile.txt\")\n",
    "print(fileobj1.read())\n",
    "#seek(0)- position the file cursor at first position\n",
    "fileobj1.seek(0)\n",
    "print(fileobj1.read())\n",
    "fileobj1.write(\"This is another content added at the EOF.\")\n",
    "fileobj1.seek(0)\n",
    "print(fileobj1.read())\n",
    "print()"
   ]
  },
  {
   "cell_type": "code",
   "execution_count": 23,
   "metadata": {},
   "outputs": [
    {
     "name": "stdout",
     "output_type": "stream",
     "text": [
      "\n",
      "write the content in the new file\n"
     ]
    }
   ],
   "source": [
    "#'w+'-open file in write and then read mode\n",
    "\n",
    "fileobj2=open('filename.txt','w+')\n",
    "print(fileobj2.read())\n",
    "fileobj2.write(\"write the content in the new file\")\n",
    "\n",
    "fileobj2.seek(0)\n",
    "print(fileobj2.read())\n",
    "fileobj2.close()"
   ]
  },
  {
   "cell_type": "code",
   "execution_count": 25,
   "metadata": {},
   "outputs": [
    {
     "name": "stdout",
     "output_type": "stream",
     "text": [
      "['The', '2024', 'Summer', 'Olympics,', 'officially', 'the', 'Games', 'of', 'the', 'XXXIII', 'Olympiad', 'and', 'branded', 'as']\n",
      "['Paris', '2024,', 'is', 'an', 'international', 'multi-sport', 'event', 'taking', 'place', 'from', '24', 'July', 'to', '11', 'August']\n",
      "['2024', 'in', 'France,', 'with', 'the', 'opening', 'ceremony', 'having', 'taken', 'place', 'on', '26', 'July.']\n",
      "['Paris', 'is', 'the', 'host', 'city,', 'with', 'events', 'held', 'in', '16', 'additional', 'cities', 'spread', 'across']\n",
      "['Metropolitan', 'France,', 'and', 'one', 'subsite', 'in', 'Tahiti,', 'French', 'Polynesia.']\n"
     ]
    }
   ],
   "source": [
    "#Usage of with in file\n",
    "\n",
    "with open('newfile.txt','r+') as fileobj:\n",
    "    data=fileobj.readlines()\n",
    "    for line in data:\n",
    "        print(line.split())"
   ]
  },
  {
   "cell_type": "code",
   "execution_count": 26,
   "metadata": {},
   "outputs": [
    {
     "data": {
      "text/plain": [
       "[2, 4, 6, 8, 10]"
      ]
     },
     "execution_count": 26,
     "metadata": {},
     "output_type": "execute_result"
    }
   ],
   "source": [
    "list1=[]\n",
    "for x in range(1,11):\n",
    "    if x%2==0:\n",
    "        list1.append(x)\n",
    "\n",
    "list1"
   ]
  },
  {
   "cell_type": "code",
   "execution_count": 27,
   "metadata": {},
   "outputs": [
    {
     "data": {
      "text/plain": [
       "[4, 16, 36, 64, 100]"
      ]
     },
     "execution_count": 27,
     "metadata": {},
     "output_type": "execute_result"
    }
   ],
   "source": [
    "list1=[x**2 for x in range(1,11) if x%2==0]\n",
    "list1"
   ]
  },
  {
   "cell_type": "code",
   "execution_count": 36,
   "metadata": {},
   "outputs": [
    {
     "name": "stdout",
     "output_type": "stream",
     "text": [
      "['A', 'B', 'C', 'F']\n"
     ]
    }
   ],
   "source": [
    "mark=[95,85,75,50]\n",
    "#g=map(lambda x: \"A\" if x>90 else \"B\" if x>=80 else \"C\" if x>=70 else \"D\" if x>=60 else \"F\",mark)\n",
    "grade=lambda x: \"A\" if x>90 else \"B\" if x>=80 else \"C\" if x>=70 else \"D\" if x>=60 else \"F\"\n",
    "g=[grade(x) for x in mark]\n",
    "#print(list(g))\n",
    "print(list(g))"
   ]
  }
 ],
 "metadata": {
  "kernelspec": {
   "display_name": "Python 3",
   "language": "python",
   "name": "python3"
  },
  "language_info": {
   "codemirror_mode": {
    "name": "ipython",
    "version": 3
   },
   "file_extension": ".py",
   "mimetype": "text/x-python",
   "name": "python",
   "nbconvert_exporter": "python",
   "pygments_lexer": "ipython3",
   "version": "3.12.4"
  }
 },
 "nbformat": 4,
 "nbformat_minor": 2
}
